{
 "cells": [
  {
   "cell_type": "code",
   "execution_count": null,
   "metadata": {},
   "outputs": [],
   "source": [
    "\"\"\"import requests\n",
    "from bs4 import BeautifulSoup\"\"\""
   ]
  },
  {
   "cell_type": "code",
   "execution_count": null,
   "metadata": {},
   "outputs": [],
   "source": [
    "\"\"\"# 크롤링할 웹 페이지 URL\n",
    "url = 'https://example.com'\n",
    "\n",
    "# 웹 페이지에 GET 요청을 보냄\n",
    "response = requests.get(url)\n",
    "\n",
    "# 응답이 성공적인지 확인\n",
    "if response.status_code == 200:\n",
    "    # BeautifulSoup을 사용하여 HTML 파싱\n",
    "    soup = BeautifulSoup(response.text, 'html.parser')\n",
    "    \n",
    "    # 원하는 데이터를 찾기 위해 HTML 요소를 선택\n",
    "    # 예를 들어, 웹 페이지의 제목을 가져오기 위해 <title> 태그를 선택\n",
    "    title = soup.find('title').text\n",
    "    \n",
    "    # 결과 출력\n",
    "    print(\"웹 페이지 제목:\", title)\n",
    "else:\n",
    "    print(\"요청 실패:\", response.status_code)\"\"\""
   ]
  }
 ],
 "metadata": {
  "language_info": {
   "name": "python"
  }
 },
 "nbformat": 4,
 "nbformat_minor": 2
}
